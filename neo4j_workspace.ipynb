{
 "cells": [
  {
   "cell_type": "markdown",
   "metadata": {},
   "source": [
    "## Refugee Movement Around the World Analysis\n",
    "\n",
    "https://github.com/rfordatascience/tidytuesday/blob/master/data/2023/2023-08-22/readme.md"
   ]
  },
  {
   "cell_type": "code",
   "execution_count": 7,
   "metadata": {},
   "outputs": [],
   "source": [
    "import neo4j\n",
    "import pandas as pd\n",
    "from IPython.display import display\n",
    "import pandas as pd\n",
    "import numpy as np\n",
    "import matplotlib.pyplot as plt"
   ]
  },
  {
   "cell_type": "markdown",
   "metadata": {},
   "source": [
    "## Import data"
   ]
  },
  {
   "cell_type": "code",
   "execution_count": 8,
   "metadata": {},
   "outputs": [],
   "source": [
    "population = pd.read_csv('population.csv')"
   ]
  },
  {
   "cell_type": "code",
   "execution_count": 9,
   "metadata": {},
   "outputs": [
    {
     "data": {
      "text/html": [
       "<div>\n",
       "<style scoped>\n",
       "    .dataframe tbody tr th:only-of-type {\n",
       "        vertical-align: middle;\n",
       "    }\n",
       "\n",
       "    .dataframe tbody tr th {\n",
       "        vertical-align: top;\n",
       "    }\n",
       "\n",
       "    .dataframe thead th {\n",
       "        text-align: right;\n",
       "    }\n",
       "</style>\n",
       "<table border=\"1\" class=\"dataframe\">\n",
       "  <thead>\n",
       "    <tr style=\"text-align: right;\">\n",
       "      <th></th>\n",
       "      <th>year</th>\n",
       "      <th>coo_name</th>\n",
       "      <th>coo</th>\n",
       "      <th>coo_iso</th>\n",
       "      <th>coa_name</th>\n",
       "      <th>coa</th>\n",
       "      <th>coa_iso</th>\n",
       "      <th>refugees</th>\n",
       "      <th>asylum_seekers</th>\n",
       "      <th>returned_refugees</th>\n",
       "      <th>idps</th>\n",
       "      <th>returned_idps</th>\n",
       "      <th>stateless</th>\n",
       "      <th>ooc</th>\n",
       "      <th>oip</th>\n",
       "      <th>hst</th>\n",
       "    </tr>\n",
       "  </thead>\n",
       "  <tbody>\n",
       "    <tr>\n",
       "      <th>3975</th>\n",
       "      <td>2010</td>\n",
       "      <td>Afghanistan</td>\n",
       "      <td>AFG</td>\n",
       "      <td>AFG</td>\n",
       "      <td>United States of America</td>\n",
       "      <td>USA</td>\n",
       "      <td>USA</td>\n",
       "      <td>1364</td>\n",
       "      <td>46</td>\n",
       "      <td>0</td>\n",
       "      <td>0</td>\n",
       "      <td>0</td>\n",
       "      <td>0</td>\n",
       "      <td>0</td>\n",
       "      <td>NaN</td>\n",
       "      <td>NaN</td>\n",
       "    </tr>\n",
       "    <tr>\n",
       "      <th>3976</th>\n",
       "      <td>2010</td>\n",
       "      <td>Albania</td>\n",
       "      <td>ALB</td>\n",
       "      <td>ALB</td>\n",
       "      <td>United States of America</td>\n",
       "      <td>USA</td>\n",
       "      <td>USA</td>\n",
       "      <td>6004</td>\n",
       "      <td>18</td>\n",
       "      <td>0</td>\n",
       "      <td>0</td>\n",
       "      <td>0</td>\n",
       "      <td>0</td>\n",
       "      <td>0</td>\n",
       "      <td>NaN</td>\n",
       "      <td>NaN</td>\n",
       "    </tr>\n",
       "  </tbody>\n",
       "</table>\n",
       "</div>"
      ],
      "text/plain": [
       "      year     coo_name  coo coo_iso                  coa_name  coa coa_iso  \\\n",
       "3975  2010  Afghanistan  AFG     AFG  United States of America  USA     USA   \n",
       "3976  2010      Albania  ALB     ALB  United States of America  USA     USA   \n",
       "\n",
       "      refugees  asylum_seekers  returned_refugees  idps  returned_idps  \\\n",
       "3975      1364              46                  0     0              0   \n",
       "3976      6004              18                  0     0              0   \n",
       "\n",
       "      stateless  ooc  oip  hst  \n",
       "3975          0    0  NaN  NaN  \n",
       "3976          0    0  NaN  NaN  "
      ]
     },
     "execution_count": 9,
     "metadata": {},
     "output_type": "execute_result"
    }
   ],
   "source": [
    "population[population['coa'] == 'USA'].head(2)"
   ]
  },
  {
   "cell_type": "code",
   "execution_count": 10,
   "metadata": {
    "scrolled": true
   },
   "outputs": [
    {
     "name": "stdout",
     "output_type": "stream",
     "text": [
      "212 unique countries in dataset, with 210 origin and 189 asylum.\n"
     ]
    }
   ],
   "source": [
    "# Map country three letter codes to names (e.g., USA == United States of America) \n",
    "origin_country_dict = dict(zip(population['coo'], population['coo_name']))\n",
    "asylum_country_dict = dict(zip(population['coa'], population['coa_name']))\n",
    "country_name_dict = origin_country_dict | asylum_country_dict\n",
    "print(f'{len(country_name_dict)} unique countries in dataset, with \\\n",
    "{len(origin_country_dict)} origin and {len(asylum_country_dict)} asylum.')"
   ]
  },
  {
   "cell_type": "code",
   "execution_count": 134,
   "metadata": {},
   "outputs": [
    {
     "name": "stderr",
     "output_type": "stream",
     "text": [
      "/tmp/ipykernel_24/1076545059.py:2: FutureWarning: Indexing with multiple keys (implicitly converted to a tuple of keys) will be deprecated, use a list instead.\n",
      "  gb = population.groupby(['coo', 'coa'])['refugees', 'asylum_seekers'].sum()\n"
     ]
    },
    {
     "data": {
      "text/html": [
       "<div>\n",
       "<style scoped>\n",
       "    .dataframe tbody tr th:only-of-type {\n",
       "        vertical-align: middle;\n",
       "    }\n",
       "\n",
       "    .dataframe tbody tr th {\n",
       "        vertical-align: top;\n",
       "    }\n",
       "\n",
       "    .dataframe thead th {\n",
       "        text-align: right;\n",
       "    }\n",
       "</style>\n",
       "<table border=\"1\" class=\"dataframe\">\n",
       "  <thead>\n",
       "    <tr style=\"text-align: right;\">\n",
       "      <th></th>\n",
       "      <th>coo</th>\n",
       "      <th>coa</th>\n",
       "      <th>refugees</th>\n",
       "      <th>asylum_seekers</th>\n",
       "    </tr>\n",
       "  </thead>\n",
       "  <tbody>\n",
       "    <tr>\n",
       "      <th>0</th>\n",
       "      <td>ABW</td>\n",
       "      <td>ABW</td>\n",
       "      <td>0</td>\n",
       "      <td>0</td>\n",
       "    </tr>\n",
       "    <tr>\n",
       "      <th>1</th>\n",
       "      <td>ABW</td>\n",
       "      <td>USA</td>\n",
       "      <td>0</td>\n",
       "      <td>7</td>\n",
       "    </tr>\n",
       "    <tr>\n",
       "      <th>2</th>\n",
       "      <td>AFG</td>\n",
       "      <td>AFG</td>\n",
       "      <td>0</td>\n",
       "      <td>0</td>\n",
       "    </tr>\n",
       "    <tr>\n",
       "      <th>3</th>\n",
       "      <td>AFG</td>\n",
       "      <td>ALB</td>\n",
       "      <td>19</td>\n",
       "      <td>0</td>\n",
       "    </tr>\n",
       "    <tr>\n",
       "      <th>4</th>\n",
       "      <td>AFG</td>\n",
       "      <td>ALG</td>\n",
       "      <td>0</td>\n",
       "      <td>5</td>\n",
       "    </tr>\n",
       "    <tr>\n",
       "      <th>...</th>\n",
       "      <td>...</td>\n",
       "      <td>...</td>\n",
       "      <td>...</td>\n",
       "      <td>...</td>\n",
       "    </tr>\n",
       "    <tr>\n",
       "      <th>7705</th>\n",
       "      <td>ZIM</td>\n",
       "      <td>TUR</td>\n",
       "      <td>6</td>\n",
       "      <td>113</td>\n",
       "    </tr>\n",
       "    <tr>\n",
       "      <th>7706</th>\n",
       "      <td>ZIM</td>\n",
       "      <td>UKR</td>\n",
       "      <td>0</td>\n",
       "      <td>35</td>\n",
       "    </tr>\n",
       "    <tr>\n",
       "      <th>7707</th>\n",
       "      <td>ZIM</td>\n",
       "      <td>USA</td>\n",
       "      <td>16123</td>\n",
       "      <td>7495</td>\n",
       "    </tr>\n",
       "    <tr>\n",
       "      <th>7708</th>\n",
       "      <td>ZIM</td>\n",
       "      <td>ZAM</td>\n",
       "      <td>53</td>\n",
       "      <td>5</td>\n",
       "    </tr>\n",
       "    <tr>\n",
       "      <th>7709</th>\n",
       "      <td>ZIM</td>\n",
       "      <td>ZIM</td>\n",
       "      <td>0</td>\n",
       "      <td>0</td>\n",
       "    </tr>\n",
       "  </tbody>\n",
       "</table>\n",
       "<p>7710 rows × 4 columns</p>\n",
       "</div>"
      ],
      "text/plain": [
       "      coo  coa  refugees  asylum_seekers\n",
       "0     ABW  ABW         0               0\n",
       "1     ABW  USA         0               7\n",
       "2     AFG  AFG         0               0\n",
       "3     AFG  ALB        19               0\n",
       "4     AFG  ALG         0               5\n",
       "...   ...  ...       ...             ...\n",
       "7705  ZIM  TUR         6             113\n",
       "7706  ZIM  UKR         0              35\n",
       "7707  ZIM  USA     16123            7495\n",
       "7708  ZIM  ZAM        53               5\n",
       "7709  ZIM  ZIM         0               0\n",
       "\n",
       "[7710 rows x 4 columns]"
      ]
     },
     "execution_count": 134,
     "metadata": {},
     "output_type": "execute_result"
    }
   ],
   "source": [
    "# Groupby to get overall refugee and asylum seeker counts\n",
    "gb = population.groupby(['coo', 'coa'])['refugees', 'asylum_seekers'].sum()\n",
    "gb.reset_index(inplace=True)\n",
    "gb"
   ]
  },
  {
   "cell_type": "markdown",
   "metadata": {},
   "source": [
    "## Connect, login, create driver, create session; with community edition, we can only use 1 database, the \"neo4j\" database"
   ]
  },
  {
   "cell_type": "code",
   "execution_count": 11,
   "metadata": {},
   "outputs": [],
   "source": [
    "driver = neo4j.GraphDatabase.driver(uri=\"neo4j://neo4j:7687\", auth=(\"neo4j\",\"ucb_mids_w205\"))"
   ]
  },
  {
   "cell_type": "code",
   "execution_count": 12,
   "metadata": {},
   "outputs": [],
   "source": [
    "session = driver.session(database=\"neo4j\")"
   ]
  },
  {
   "cell_type": "markdown",
   "metadata": {},
   "source": [
    "## Functions to Manage neo4j data"
   ]
  },
  {
   "cell_type": "code",
   "execution_count": 13,
   "metadata": {},
   "outputs": [],
   "source": [
    "def my_neo4j_wipe_out_database():\n",
    "    \"wipe out database by deleting all nodes and relationships\"\n",
    "    \n",
    "    query = \"match (node)-[relationship]->() delete node, relationship\"\n",
    "    session.run(query)\n",
    "    \n",
    "    query = \"match (node) delete node\"\n",
    "    session.run(query)"
   ]
  },
  {
   "cell_type": "code",
   "execution_count": 14,
   "metadata": {},
   "outputs": [],
   "source": [
    "def my_neo4j_run_query_pandas(query, **kwargs):\n",
    "    \"run a query and return the results in a pandas dataframe\"\n",
    "    \n",
    "    result = session.run(query, **kwargs)\n",
    "    \n",
    "    df = pd.DataFrame([r.values() for r in result], columns=result.keys())\n",
    "    \n",
    "    return df"
   ]
  },
  {
   "cell_type": "code",
   "execution_count": 15,
   "metadata": {},
   "outputs": [],
   "source": [
    "def my_neo4j_nodes_relationships():\n",
    "    \"print all the nodes and relationships\"\n",
    "   \n",
    "    print(\"-------------------------\")\n",
    "    print(\"  Nodes:\")\n",
    "    print(\"-------------------------\")\n",
    "    \n",
    "    query = \"\"\"\n",
    "        match (n) \n",
    "        return n.name as node_name, labels(n) as labels\n",
    "        order by n.name\n",
    "    \"\"\"\n",
    "    \n",
    "    df = my_neo4j_run_query_pandas(query)\n",
    "    \n",
    "    number_nodes = df.shape[0]\n",
    "    \n",
    "    display(df)\n",
    "    \n",
    "    print(\"-------------------------\")\n",
    "    print(\"  Relationships:\")\n",
    "    print(\"-------------------------\")\n",
    "    \n",
    "    query = \"\"\"\n",
    "        match (n1)-[r]->(n2) \n",
    "        return n1.name as node_name_1, labels(n1) as node_1_labels, \n",
    "            type(r) as relationship_type, n2.name as node_name_2, labels(n2) as node_2_labels\n",
    "        order by node_name_1, node_name_2\n",
    "    \"\"\"\n",
    "    \n",
    "    df = my_neo4j_run_query_pandas(query)\n",
    "    \n",
    "    number_relationships = df.shape[0]\n",
    "    \n",
    "    display(df)\n",
    "    \n",
    "    density = (2 * number_relationships) / (number_nodes * (number_nodes - 1))\n",
    "    \n",
    "    print(\"-------------------------\")\n",
    "    print(\"  Density:\", f'{density:.1f}')\n",
    "    print(\"-------------------------\")\n",
    "    "
   ]
  },
  {
   "cell_type": "markdown",
   "metadata": {},
   "source": [
    "## Nodes and Relationships\n",
    "+ The cells need to be run in succession, creating nodes per country, before creating relationships\n",
    "+ BUT, the nodes and relationships also need to be created in a _single query_, otherwise neo4j can't find\n",
    "the country based on its name\n",
    "+NOTE: neo4j requires <font color='red'>names begin with a letter</font> (e.g., _2011_ throws error but _Y2011_ accepted)"
   ]
  },
  {
   "cell_type": "code",
   "execution_count": 130,
   "metadata": {},
   "outputs": [],
   "source": [
    "my_neo4j_wipe_out_database()"
   ]
  },
  {
   "cell_type": "code",
   "execution_count": 131,
   "metadata": {},
   "outputs": [],
   "source": [
    "### Loops to create:\n",
    "    # 1) node per country\n",
    "    # 2) relationships between origin and destination countries\n",
    "# NOTE: neo4j requires names begin with a letter\n",
    "query = 'CREATE'"
   ]
  },
  {
   "cell_type": "code",
   "execution_count": 133,
   "metadata": {},
   "outputs": [],
   "source": [
    "# Loop to create node per country\n",
    "# Template --> (usa:Country {name: 'United States of America'}),\n",
    "for c_code, c_name in origin_country_dict.items():\n",
    "    temp_string = \"(\" + c_code + \":Country {name: \\\"\" + c_name + \"\\\"}),\"\n",
    "    query = query + temp_string"
   ]
  },
  {
   "cell_type": "code",
   "execution_count": 135,
   "metadata": {},
   "outputs": [],
   "source": [
    "# Loop to create relationships between countries\n",
    "# Skip where origin/destination country is the same\n",
    "relationships = []\n",
    "for i in range(0, len(gb)):\n",
    "    if gb.iloc[i]['coo'] != gb.iloc[i]['coa']:\n",
    "        relationships.append(\n",
    "            \"(\"\n",
    "            + gb.iloc[i]['coo']\n",
    "            + \")-[:IS_CONNECTED_TO \"\n",
    "            + \"{refugees: \" + str(gb.iloc[i]['refugees']) + ', '\n",
    "            + \"asylum_seekers: \" + str(gb.iloc[i]['asylum_seekers'])\n",
    "            + \"}]->(\"\n",
    "            + gb.iloc[i]['coa']\n",
    "            + \")\"\n",
    "        )\n",
    "\n",
    "query = query + ', '.join(relationships)"
   ]
  },
  {
   "cell_type": "code",
   "execution_count": 136,
   "metadata": {},
   "outputs": [
    {
     "data": {
      "text/plain": [
       "'CREATE(Y2010:Year {name: 2010}),(Y2011:Year {name: 2011}),(Y2012:Year {name: 2012}),(Y2013:Year {name: 2013}),(Y2014:Year {name: 2014}),(Y2015:Year {name: 2015}),(Y2016:Year {name: 2016}),(Y2017:Year '"
      ]
     },
     "execution_count": 136,
     "metadata": {},
     "output_type": "execute_result"
    }
   ],
   "source": [
    "# Preview first chars in query\n",
    "query[:200]"
   ]
  },
  {
   "cell_type": "code",
   "execution_count": 137,
   "metadata": {},
   "outputs": [
    {
     "data": {
      "text/plain": [
       "<neo4j._sync.work.result.Result at 0x7fbbabb57340>"
      ]
     },
     "execution_count": 137,
     "metadata": {},
     "output_type": "execute_result"
    }
   ],
   "source": [
    "# Run query to create node and relationships\n",
    "session.run(query)"
   ]
  },
  {
   "cell_type": "code",
   "execution_count": 138,
   "metadata": {
    "scrolled": false
   },
   "outputs": [
    {
     "name": "stdout",
     "output_type": "stream",
     "text": [
      "-------------------------\n",
      "  Nodes:\n",
      "-------------------------\n"
     ]
    },
    {
     "data": {
      "text/html": [
       "<div>\n",
       "<style scoped>\n",
       "    .dataframe tbody tr th:only-of-type {\n",
       "        vertical-align: middle;\n",
       "    }\n",
       "\n",
       "    .dataframe tbody tr th {\n",
       "        vertical-align: top;\n",
       "    }\n",
       "\n",
       "    .dataframe thead th {\n",
       "        text-align: right;\n",
       "    }\n",
       "</style>\n",
       "<table border=\"1\" class=\"dataframe\">\n",
       "  <thead>\n",
       "    <tr style=\"text-align: right;\">\n",
       "      <th></th>\n",
       "      <th>node_name</th>\n",
       "      <th>labels</th>\n",
       "    </tr>\n",
       "  </thead>\n",
       "  <tbody>\n",
       "    <tr>\n",
       "      <th>0</th>\n",
       "      <td>Afghanistan</td>\n",
       "      <td>[Country]</td>\n",
       "    </tr>\n",
       "    <tr>\n",
       "      <th>1</th>\n",
       "      <td>Albania</td>\n",
       "      <td>[Country]</td>\n",
       "    </tr>\n",
       "    <tr>\n",
       "      <th>2</th>\n",
       "      <td>Algeria</td>\n",
       "      <td>[Country]</td>\n",
       "    </tr>\n",
       "    <tr>\n",
       "      <th>3</th>\n",
       "      <td>Andorra</td>\n",
       "      <td>[Country]</td>\n",
       "    </tr>\n",
       "    <tr>\n",
       "      <th>4</th>\n",
       "      <td>Angola</td>\n",
       "      <td>[Country]</td>\n",
       "    </tr>\n",
       "    <tr>\n",
       "      <th>...</th>\n",
       "      <td>...</td>\n",
       "      <td>...</td>\n",
       "    </tr>\n",
       "    <tr>\n",
       "      <th>220</th>\n",
       "      <td>2020</td>\n",
       "      <td>[Year]</td>\n",
       "    </tr>\n",
       "    <tr>\n",
       "      <th>221</th>\n",
       "      <td>2021</td>\n",
       "      <td>[Year]</td>\n",
       "    </tr>\n",
       "    <tr>\n",
       "      <th>222</th>\n",
       "      <td>2022</td>\n",
       "      <td>[Year]</td>\n",
       "    </tr>\n",
       "    <tr>\n",
       "      <th>223</th>\n",
       "      <td>None</td>\n",
       "      <td>[]</td>\n",
       "    </tr>\n",
       "    <tr>\n",
       "      <th>224</th>\n",
       "      <td>None</td>\n",
       "      <td>[]</td>\n",
       "    </tr>\n",
       "  </tbody>\n",
       "</table>\n",
       "<p>225 rows × 2 columns</p>\n",
       "</div>"
      ],
      "text/plain": [
       "       node_name     labels\n",
       "0    Afghanistan  [Country]\n",
       "1        Albania  [Country]\n",
       "2        Algeria  [Country]\n",
       "3        Andorra  [Country]\n",
       "4         Angola  [Country]\n",
       "..           ...        ...\n",
       "220         2020     [Year]\n",
       "221         2021     [Year]\n",
       "222         2022     [Year]\n",
       "223         None         []\n",
       "224         None         []\n",
       "\n",
       "[225 rows x 2 columns]"
      ]
     },
     "metadata": {},
     "output_type": "display_data"
    },
    {
     "name": "stdout",
     "output_type": "stream",
     "text": [
      "-------------------------\n",
      "  Relationships:\n",
      "-------------------------\n"
     ]
    },
    {
     "data": {
      "text/html": [
       "<div>\n",
       "<style scoped>\n",
       "    .dataframe tbody tr th:only-of-type {\n",
       "        vertical-align: middle;\n",
       "    }\n",
       "\n",
       "    .dataframe tbody tr th {\n",
       "        vertical-align: top;\n",
       "    }\n",
       "\n",
       "    .dataframe thead th {\n",
       "        text-align: right;\n",
       "    }\n",
       "</style>\n",
       "<table border=\"1\" class=\"dataframe\">\n",
       "  <thead>\n",
       "    <tr style=\"text-align: right;\">\n",
       "      <th></th>\n",
       "      <th>node_name_1</th>\n",
       "      <th>node_1_labels</th>\n",
       "      <th>relationship_type</th>\n",
       "      <th>node_name_2</th>\n",
       "      <th>node_2_labels</th>\n",
       "    </tr>\n",
       "  </thead>\n",
       "  <tbody>\n",
       "    <tr>\n",
       "      <th>0</th>\n",
       "      <td>Afghanistan</td>\n",
       "      <td>[Country]</td>\n",
       "      <td>IS_CONNECTED_TO</td>\n",
       "      <td>Albania</td>\n",
       "      <td>[Country]</td>\n",
       "    </tr>\n",
       "    <tr>\n",
       "      <th>1</th>\n",
       "      <td>Afghanistan</td>\n",
       "      <td>[Country]</td>\n",
       "      <td>IS_CONNECTED_TO</td>\n",
       "      <td>Algeria</td>\n",
       "      <td>[Country]</td>\n",
       "    </tr>\n",
       "    <tr>\n",
       "      <th>2</th>\n",
       "      <td>Afghanistan</td>\n",
       "      <td>[Country]</td>\n",
       "      <td>IS_CONNECTED_TO</td>\n",
       "      <td>Argentina</td>\n",
       "      <td>[Country]</td>\n",
       "    </tr>\n",
       "    <tr>\n",
       "      <th>3</th>\n",
       "      <td>Afghanistan</td>\n",
       "      <td>[Country]</td>\n",
       "      <td>IS_CONNECTED_TO</td>\n",
       "      <td>Armenia</td>\n",
       "      <td>[Country]</td>\n",
       "    </tr>\n",
       "    <tr>\n",
       "      <th>4</th>\n",
       "      <td>Afghanistan</td>\n",
       "      <td>[Country]</td>\n",
       "      <td>IS_CONNECTED_TO</td>\n",
       "      <td>Australia</td>\n",
       "      <td>[Country]</td>\n",
       "    </tr>\n",
       "    <tr>\n",
       "      <th>...</th>\n",
       "      <td>...</td>\n",
       "      <td>...</td>\n",
       "      <td>...</td>\n",
       "      <td>...</td>\n",
       "      <td>...</td>\n",
       "    </tr>\n",
       "    <tr>\n",
       "      <th>7624</th>\n",
       "      <td>Zimbabwe</td>\n",
       "      <td>[Country]</td>\n",
       "      <td>IS_CONNECTED_TO</td>\n",
       "      <td>Türkiye</td>\n",
       "      <td>[Country]</td>\n",
       "    </tr>\n",
       "    <tr>\n",
       "      <th>7625</th>\n",
       "      <td>Zimbabwe</td>\n",
       "      <td>[Country]</td>\n",
       "      <td>IS_CONNECTED_TO</td>\n",
       "      <td>Ukraine</td>\n",
       "      <td>[Country]</td>\n",
       "    </tr>\n",
       "    <tr>\n",
       "      <th>7626</th>\n",
       "      <td>Zimbabwe</td>\n",
       "      <td>[Country]</td>\n",
       "      <td>IS_CONNECTED_TO</td>\n",
       "      <td>United Kingdom of Great Britain and Northern I...</td>\n",
       "      <td>[Country]</td>\n",
       "    </tr>\n",
       "    <tr>\n",
       "      <th>7627</th>\n",
       "      <td>Zimbabwe</td>\n",
       "      <td>[Country]</td>\n",
       "      <td>IS_CONNECTED_TO</td>\n",
       "      <td>United States of America</td>\n",
       "      <td>[Country]</td>\n",
       "    </tr>\n",
       "    <tr>\n",
       "      <th>7628</th>\n",
       "      <td>Zimbabwe</td>\n",
       "      <td>[Country]</td>\n",
       "      <td>IS_CONNECTED_TO</td>\n",
       "      <td>Zambia</td>\n",
       "      <td>[Country]</td>\n",
       "    </tr>\n",
       "  </tbody>\n",
       "</table>\n",
       "<p>7629 rows × 5 columns</p>\n",
       "</div>"
      ],
      "text/plain": [
       "      node_name_1 node_1_labels relationship_type  \\\n",
       "0     Afghanistan     [Country]   IS_CONNECTED_TO   \n",
       "1     Afghanistan     [Country]   IS_CONNECTED_TO   \n",
       "2     Afghanistan     [Country]   IS_CONNECTED_TO   \n",
       "3     Afghanistan     [Country]   IS_CONNECTED_TO   \n",
       "4     Afghanistan     [Country]   IS_CONNECTED_TO   \n",
       "...           ...           ...               ...   \n",
       "7624     Zimbabwe     [Country]   IS_CONNECTED_TO   \n",
       "7625     Zimbabwe     [Country]   IS_CONNECTED_TO   \n",
       "7626     Zimbabwe     [Country]   IS_CONNECTED_TO   \n",
       "7627     Zimbabwe     [Country]   IS_CONNECTED_TO   \n",
       "7628     Zimbabwe     [Country]   IS_CONNECTED_TO   \n",
       "\n",
       "                                            node_name_2 node_2_labels  \n",
       "0                                               Albania     [Country]  \n",
       "1                                               Algeria     [Country]  \n",
       "2                                             Argentina     [Country]  \n",
       "3                                               Armenia     [Country]  \n",
       "4                                             Australia     [Country]  \n",
       "...                                                 ...           ...  \n",
       "7624                                            Türkiye     [Country]  \n",
       "7625                                            Ukraine     [Country]  \n",
       "7626  United Kingdom of Great Britain and Northern I...     [Country]  \n",
       "7627                           United States of America     [Country]  \n",
       "7628                                             Zambia     [Country]  \n",
       "\n",
       "[7629 rows x 5 columns]"
      ]
     },
     "metadata": {},
     "output_type": "display_data"
    },
    {
     "name": "stdout",
     "output_type": "stream",
     "text": [
      "-------------------------\n",
      "  Density: 0.3\n",
      "-------------------------\n"
     ]
    }
   ],
   "source": [
    "# Confirm that nodes and relationships created successfully\n",
    "my_neo4j_nodes_relationships()"
   ]
  }
 ],
 "metadata": {
  "kernelspec": {
   "display_name": "Python 3 (ipykernel)",
   "language": "python",
   "name": "python3"
  },
  "language_info": {
   "codemirror_mode": {
    "name": "ipython",
    "version": 3
   },
   "file_extension": ".py",
   "mimetype": "text/x-python",
   "name": "python",
   "nbconvert_exporter": "python",
   "pygments_lexer": "ipython3",
   "version": "3.9.7"
  }
 },
 "nbformat": 4,
 "nbformat_minor": 2
}
