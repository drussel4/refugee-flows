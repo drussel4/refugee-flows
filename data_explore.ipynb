{
 "cells": [
  {
   "cell_type": "markdown",
   "metadata": {},
   "source": [
    "### Refugee Movement Around the World Analysis\n",
    "\n",
    "https://github.com/rfordatascience/tidytuesday/blob/master/data/2023/2023-08-22/readme.md"
   ]
  },
  {
   "cell_type": "code",
   "execution_count": 31,
   "metadata": {},
   "outputs": [],
   "source": [
    "import pandas as pd\n",
    "import numpy as np\n",
    "import matplotlib.pyplot as plt\n"
   ]
  },
  {
   "cell_type": "code",
   "execution_count": 2,
   "metadata": {},
   "outputs": [],
   "source": [
    "population = pd.read_csv('population.csv')"
   ]
  },
  {
   "cell_type": "code",
   "execution_count": 51,
   "metadata": {},
   "outputs": [
    {
     "name": "stdout",
     "output_type": "stream",
     "text": [
      "<class 'pandas.core.frame.DataFrame'>\n",
      "RangeIndex: 64809 entries, 0 to 64808\n",
      "Data columns (total 16 columns):\n",
      " #   Column             Non-Null Count  Dtype  \n",
      "---  ------             --------------  -----  \n",
      " 0   year               64809 non-null  int64  \n",
      " 1   coo_name           64809 non-null  object \n",
      " 2   coo                64809 non-null  object \n",
      " 3   coo_iso            64809 non-null  object \n",
      " 4   coa_name           64809 non-null  object \n",
      " 5   coa                64809 non-null  object \n",
      " 6   coa_iso            64809 non-null  object \n",
      " 7   refugees           64809 non-null  int64  \n",
      " 8   asylum_seekers     64809 non-null  int64  \n",
      " 9   returned_refugees  64809 non-null  int64  \n",
      " 10  idps               64809 non-null  int64  \n",
      " 11  returned_idps      64809 non-null  int64  \n",
      " 12  stateless          64809 non-null  int64  \n",
      " 13  ooc                64809 non-null  int64  \n",
      " 14  oip                100 non-null    float64\n",
      " 15  hst                5964 non-null   float64\n",
      "dtypes: float64(2), int64(8), object(6)\n",
      "memory usage: 7.9+ MB\n"
     ]
    }
   ],
   "source": [
    "population.columns\n",
    "population.info()"
   ]
  },
  {
   "cell_type": "markdown",
   "metadata": {},
   "source": [
    "##### Columns to exclude (missing majority of info)\n",
    "oip : number of people in need of international protection <br>\n",
    "hst : the number of host community members"
   ]
  },
  {
   "cell_type": "code",
   "execution_count": 20,
   "metadata": {},
   "outputs": [
    {
     "data": {
      "text/plain": [
       "2022    5930\n",
       "2021    5587\n",
       "2020    5491\n",
       "2019    5439\n",
       "2018    5264\n",
       "2017    5125\n",
       "2015    4938\n",
       "2016    4927\n",
       "2014    4746\n",
       "2013    4568\n",
       "2012    4364\n",
       "2010    4216\n",
       "2011    4214\n",
       "Name: year, dtype: int64"
      ]
     },
     "execution_count": 20,
     "metadata": {},
     "output_type": "execute_result"
    }
   ],
   "source": [
    "population.year.value_counts()"
   ]
  },
  {
   "cell_type": "code",
   "execution_count": 50,
   "metadata": {},
   "outputs": [
    {
     "name": "stdout",
     "output_type": "stream",
     "text": [
      "number of unique origin countries: 210 \n",
      "number of unique asylum countries: 189\n"
     ]
    }
   ],
   "source": [
    "origin_country_dict = dict(zip(population['coo'], population['coo_name']))\n",
    "asylum_country_dict = dict(zip(population['coa'], population['coa_name']))\n",
    "\n",
    "num_coo = len(origin_country_dict)\n",
    "num_coa = len(asylum_country_dict)\n",
    "\n",
    "print(f'number of unique origin countries: {num_coo} \\nnumber of unique asylum countries: {num_coa}')\n",
    "# origin_country_dict"
   ]
  },
  {
   "cell_type": "code",
   "execution_count": 43,
   "metadata": {},
   "outputs": [
    {
     "name": "stderr",
     "output_type": "stream",
     "text": [
      "/var/folders/jr/dp8pnxz57d974ls54163krhw0000gn/T/ipykernel_49931/2656195397.py:1: FutureWarning: The default value of numeric_only in DataFrameGroupBy.sum is deprecated. In a future version, numeric_only will default to False. Either specify numeric_only or select only columns which should be valid for the function.\n",
      "  pop_2020 = population[population['year'] == 2020].groupby(['coo', 'year']).sum().reset_index()\n"
     ]
    },
    {
     "data": {
      "text/plain": [
       "Index(['coo', 'year', 'refugees', 'asylum_seekers', 'returned_refugees',\n",
       "       'idps', 'returned_idps', 'stateless', 'ooc', 'oip', 'hst'],\n",
       "      dtype='object')"
      ]
     },
     "execution_count": 43,
     "metadata": {},
     "output_type": "execute_result"
    }
   ],
   "source": [
    "pop_2020 = population[population['year'] == 2020].groupby(['coo', 'year']).sum().reset_index()\n",
    "sorted_result = pop_2020.sort_values(by='refugees', ascending=False)\n",
    "top10_2020 = sorted_result.head(10)\n",
    "top10_2020.columns"
   ]
  },
  {
   "cell_type": "code",
   "execution_count": 47,
   "metadata": {},
   "outputs": [
    {
     "data": {
      "image/png": "[encoded data removed]",
      "text/plain": [
       "<Figure size 500x300 with 1 Axes>"
      ]
     },
     "metadata": {},
     "output_type": "display_data"
    }
   ],
   "source": [
    "plt.figure(figsize=(5, 3))\n",
    "plt.bar(top10_2020['coo'], top10_2020['refugees'])\n",
    "plt.xlabel('Country')\n",
    "plt.ylabel('Refugee Count')\n",
    "plt.title('Highest 10 Countries by Refugee Count 2020')\n",
    "plt.xticks(rotation=45, ha='right')\n",
    "plt.tight_layout()\n",
    "plt.show()"
   ]
  },
  {
   "cell_type": "code",
   "execution_count": 57,
   "metadata": {},
   "outputs": [
    {
     "name": "stderr",
     "output_type": "stream",
     "text": [
      "/var/folders/jr/dp8pnxz57d974ls54163krhw0000gn/T/ipykernel_49931/1889532867.py:1: FutureWarning: The default value of numeric_only in DataFrameGroupBy.sum is deprecated. In a future version, numeric_only will default to False. Either specify numeric_only or select only columns which should be valid for the function.\n",
      "  pop_2020_a = population[population['year'] == 2020].groupby(['coa', 'year']).sum().reset_index()\n"
     ]
    },
    {
     "data": {
      "text/html": [
       "<div>\n",
       "<style scoped>\n",
       "    .dataframe tbody tr th:only-of-type {\n",
       "        vertical-align: middle;\n",
       "    }\n",
       "\n",
       "    .dataframe tbody tr th {\n",
       "        vertical-align: top;\n",
       "    }\n",
       "\n",
       "    .dataframe thead th {\n",
       "        text-align: right;\n",
       "    }\n",
       "</style>\n",
       "<table border=\"1\" class=\"dataframe\">\n",
       "  <thead>\n",
       "    <tr style=\"text-align: right;\">\n",
       "      <th></th>\n",
       "      <th>coa</th>\n",
       "      <th>year</th>\n",
       "      <th>refugees</th>\n",
       "      <th>asylum_seekers</th>\n",
       "      <th>returned_refugees</th>\n",
       "      <th>idps</th>\n",
       "      <th>returned_idps</th>\n",
       "      <th>stateless</th>\n",
       "      <th>ooc</th>\n",
       "      <th>oip</th>\n",
       "      <th>hst</th>\n",
       "    </tr>\n",
       "  </thead>\n",
       "  <tbody>\n",
       "    <tr>\n",
       "      <th>170</th>\n",
       "      <td>USA</td>\n",
       "      <td>2020</td>\n",
       "      <td>340846</td>\n",
       "      <td>997996</td>\n",
       "      <td>0</td>\n",
       "      <td>0</td>\n",
       "      <td>0</td>\n",
       "      <td>47</td>\n",
       "      <td>0</td>\n",
       "      <td>0.0</td>\n",
       "      <td>0.0</td>\n",
       "    </tr>\n",
       "    <tr>\n",
       "      <th>127</th>\n",
       "      <td>PER</td>\n",
       "      <td>2020</td>\n",
       "      <td>4272</td>\n",
       "      <td>537552</td>\n",
       "      <td>0</td>\n",
       "      <td>0</td>\n",
       "      <td>0</td>\n",
       "      <td>0</td>\n",
       "      <td>0</td>\n",
       "      <td>515039.0</td>\n",
       "      <td>500353.0</td>\n",
       "    </tr>\n",
       "    <tr>\n",
       "      <th>165</th>\n",
       "      <td>TUR</td>\n",
       "      <td>2020</td>\n",
       "      <td>3652362</td>\n",
       "      <td>322188</td>\n",
       "      <td>18155</td>\n",
       "      <td>0</td>\n",
       "      <td>0</td>\n",
       "      <td>0</td>\n",
       "      <td>0</td>\n",
       "      <td>0.0</td>\n",
       "      <td>0.0</td>\n",
       "    </tr>\n",
       "    <tr>\n",
       "      <th>59</th>\n",
       "      <td>GFR</td>\n",
       "      <td>2020</td>\n",
       "      <td>1210596</td>\n",
       "      <td>243157</td>\n",
       "      <td>50</td>\n",
       "      <td>0</td>\n",
       "      <td>0</td>\n",
       "      <td>26675</td>\n",
       "      <td>0</td>\n",
       "      <td>0.0</td>\n",
       "      <td>0.0</td>\n",
       "    </tr>\n",
       "    <tr>\n",
       "      <th>23</th>\n",
       "      <td>BRA</td>\n",
       "      <td>2020</td>\n",
       "      <td>59092</td>\n",
       "      <td>202661</td>\n",
       "      <td>0</td>\n",
       "      <td>0</td>\n",
       "      <td>0</td>\n",
       "      <td>14</td>\n",
       "      <td>0</td>\n",
       "      <td>163754.0</td>\n",
       "      <td>0.0</td>\n",
       "    </tr>\n",
       "    <tr>\n",
       "      <th>134</th>\n",
       "      <td>RSA</td>\n",
       "      <td>2020</td>\n",
       "      <td>76729</td>\n",
       "      <td>173461</td>\n",
       "      <td>19</td>\n",
       "      <td>0</td>\n",
       "      <td>0</td>\n",
       "      <td>0</td>\n",
       "      <td>0</td>\n",
       "      <td>0.0</td>\n",
       "      <td>0.0</td>\n",
       "    </tr>\n",
       "    <tr>\n",
       "      <th>54</th>\n",
       "      <td>FRA</td>\n",
       "      <td>2020</td>\n",
       "      <td>436055</td>\n",
       "      <td>118137</td>\n",
       "      <td>0</td>\n",
       "      <td>0</td>\n",
       "      <td>0</td>\n",
       "      <td>2068</td>\n",
       "      <td>1606</td>\n",
       "      <td>0.0</td>\n",
       "      <td>0.0</td>\n",
       "    </tr>\n",
       "    <tr>\n",
       "      <th>143</th>\n",
       "      <td>SPA</td>\n",
       "      <td>2020</td>\n",
       "      <td>103624</td>\n",
       "      <td>103385</td>\n",
       "      <td>0</td>\n",
       "      <td>0</td>\n",
       "      <td>0</td>\n",
       "      <td>5914</td>\n",
       "      <td>5904</td>\n",
       "      <td>0.0</td>\n",
       "      <td>0.0</td>\n",
       "    </tr>\n",
       "    <tr>\n",
       "      <th>39</th>\n",
       "      <td>COS</td>\n",
       "      <td>2020</td>\n",
       "      <td>9593</td>\n",
       "      <td>89744</td>\n",
       "      <td>0</td>\n",
       "      <td>0</td>\n",
       "      <td>0</td>\n",
       "      <td>199</td>\n",
       "      <td>0</td>\n",
       "      <td>22401.0</td>\n",
       "      <td>0.0</td>\n",
       "    </tr>\n",
       "    <tr>\n",
       "      <th>29</th>\n",
       "      <td>CAN</td>\n",
       "      <td>2020</td>\n",
       "      <td>109214</td>\n",
       "      <td>85352</td>\n",
       "      <td>0</td>\n",
       "      <td>0</td>\n",
       "      <td>0</td>\n",
       "      <td>4139</td>\n",
       "      <td>0</td>\n",
       "      <td>0.0</td>\n",
       "      <td>0.0</td>\n",
       "    </tr>\n",
       "  </tbody>\n",
       "</table>\n",
       "</div>"
      ],
      "text/plain": [
       "     coa  year  refugees  asylum_seekers  returned_refugees  idps  \\\n",
       "170  USA  2020    340846          997996                  0     0   \n",
       "127  PER  2020      4272          537552                  0     0   \n",
       "165  TUR  2020   3652362          322188              18155     0   \n",
       "59   GFR  2020   1210596          243157                 50     0   \n",
       "23   BRA  2020     59092          202661                  0     0   \n",
       "134  RSA  2020     76729          173461                 19     0   \n",
       "54   FRA  2020    436055          118137                  0     0   \n",
       "143  SPA  2020    103624          103385                  0     0   \n",
       "39   COS  2020      9593           89744                  0     0   \n",
       "29   CAN  2020    109214           85352                  0     0   \n",
       "\n",
       "     returned_idps  stateless   ooc       oip       hst  \n",
       "170              0         47     0       0.0       0.0  \n",
       "127              0          0     0  515039.0  500353.0  \n",
       "165              0          0     0       0.0       0.0  \n",
       "59               0      26675     0       0.0       0.0  \n",
       "23               0         14     0  163754.0       0.0  \n",
       "134              0          0     0       0.0       0.0  \n",
       "54               0       2068  1606       0.0       0.0  \n",
       "143              0       5914  5904       0.0       0.0  \n",
       "39               0        199     0   22401.0       0.0  \n",
       "29               0       4139     0       0.0       0.0  "
      ]
     },
     "execution_count": 57,
     "metadata": {},
     "output_type": "execute_result"
    }
   ],
   "source": [
    "pop_2020_a = population[population['year'] == 2020].groupby(['coa', 'year']).sum().reset_index()\n",
    "sorted_result_a = pop_2020_a.sort_values(by='asylum_seekers', ascending=False)\n",
    "top10_2020_a = sorted_result_a.head(10)\n",
    "top10_2020_a\n",
    "# top10_2020_a.columns"
   ]
  },
  {
   "cell_type": "code",
   "execution_count": 58,
   "metadata": {},
   "outputs": [
    {
     "data": {
      "image/png": "[encoded data removed]",
      "text/plain": [
       "<Figure size 500x300 with 1 Axes>"
      ]
     },
     "metadata": {},
     "output_type": "display_data"
    }
   ],
   "source": [
    "plt.figure(figsize=(5, 3))\n",
    "plt.bar(top10_2020_a['coa'], top10_2020_a['asylum_seekers'])\n",
    "plt.xlabel('Country')\n",
    "plt.ylabel('asylum_seekers Count')\n",
    "plt.title('Highest 10 Countries by asylum_seekers Count 2020')\n",
    "plt.xticks(rotation=45, ha='right')\n",
    "# plt.tight_layout()\n",
    "plt.show()"
   ]
  },
  {
   "cell_type": "code",
   "execution_count": null,
   "metadata": {},
   "outputs": [],
   "source": []
  }
 ],
 "metadata": {
  "kernelspec": {
   "display_name": "base",
   "language": "python",
   "name": "python3"
  },
  "language_info": {
   "codemirror_mode": {
    "name": "ipython",
    "version": 3
   },
   "file_extension": ".py",
   "mimetype": "text/x-python",
   "name": "python",
   "nbconvert_exporter": "python",
   "pygments_lexer": "ipython3",
   "version": "3.11.4"
  }
 },
 "nbformat": 4,
 "nbformat_minor": 2
}
